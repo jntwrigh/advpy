{
 "cells": [
  {
   "cell_type": "code",
   "execution_count": 1,
   "metadata": {},
   "outputs": [
    {
     "data": {
      "text/html": [
       "<style type=\"text/css\">\n",
       "    .tasks { color: red; }\n",
       "    .task { color: blue; }\n",
       "    .example { color: green; }\n",
       "</style>"
      ],
      "text/plain": [
       "<IPython.core.display.HTML object>"
      ]
     },
     "metadata": {},
     "output_type": "execute_result"
    }
   ],
   "source": [
    "%%HTML\n",
    "<style type=\"text/css\">\n",
    "    .tasks { color: red; }\n",
    "    .task { color: blue; }\n",
    "    .example { color: green; }\n",
    "</style>"
   ]
  },
  {
   "cell_type": "code",
   "execution_count": 2,
   "metadata": {},
   "outputs": [],
   "source": [
    "import warnings\n",
    "\n",
    "import matplotlib.pyplot as plt\n",
    "import numpy as np\n",
    "import pandas as pd\n",
    "import seaborn as sns\n",
    "\n",
    "sns.set()\n",
    "\n",
    "warnings.filterwarnings('ignore')\n",
    "np.set_printoptions(precision=3, suppress=True)\n",
    "\n",
    "pd.set_option('max_rows', 150)\n",
    "\n",
    "%matplotlib inline"
   ]
  },
  {
   "cell_type": "markdown",
   "metadata": {},
   "source": [
    "<br><br>\n",
    "\n",
    "<h2 class=\"example\">Working with Log Files</h2>\n",
    "\n",
    "<br>\n",
    "\n",
    "We are reading the log file in our student files folder called new_access.log.  We format the req_date column to be a Python Datetime object.  We perform some groupby operations (on the addr and browser columns, for example).  Then we examine the locations of the IP addresses using pygeoip.  This must be installed (it is not in Anaconda).\n",
    "\n",
    "```python\n",
    "pip install pygeoip, or pip3 install pygeoip, or pip3.7 install pygeoip (etc.)\n",
    "```\n",
    "pygeoip uses a data file (called geocitylite.dat in the student_files/resources folder).\n",
    "We apply a function to all cells in the addr column which does a lookup into the pygeoip data file to find the latitude, longitude, city, and country info for that IP address.\n",
    "\n",
    "We then plot information about countries and cities related to that file.  To plot the city locations, we used another 3rd party tool, called gmplot.  This tool is for development purposes but must also be installed.  \n",
    "```python \n",
    "pip install gmplot\n",
    "```\n"
   ]
  },
  {
   "cell_type": "code",
   "execution_count": 4,
   "metadata": {},
   "outputs": [
    {
     "data": {
      "text/plain": [
       "(463915, 6)"
      ]
     },
     "execution_count": 4,
     "metadata": {},
     "output_type": "execute_result"
    }
   ],
   "source": [
    "log = pd.read_csv('../resources/new_access.log', usecols=(0, 3, 5, 6, 7, 9), sep='\\s+',\n",
    "                  names=['addr', 'req_date', 'request', 'status', 'size', 'browser'], \n",
    "                  error_bad_lines=False)\n",
    "log.shape"
   ]
  },
  {
   "cell_type": "code",
   "execution_count": 5,
   "metadata": {},
   "outputs": [
    {
     "data": {
      "text/html": [
       "<div>\n",
       "<style scoped>\n",
       "    .dataframe tbody tr th:only-of-type {\n",
       "        vertical-align: middle;\n",
       "    }\n",
       "\n",
       "    .dataframe tbody tr th {\n",
       "        vertical-align: top;\n",
       "    }\n",
       "\n",
       "    .dataframe thead th {\n",
       "        text-align: right;\n",
       "    }\n",
       "</style>\n",
       "<table border=\"1\" class=\"dataframe\">\n",
       "  <thead>\n",
       "    <tr style=\"text-align: right;\">\n",
       "      <th></th>\n",
       "      <th>addr</th>\n",
       "      <th>req_date</th>\n",
       "      <th>request</th>\n",
       "      <th>status</th>\n",
       "      <th>size</th>\n",
       "      <th>browser</th>\n",
       "    </tr>\n",
       "  </thead>\n",
       "  <tbody>\n",
       "    <tr>\n",
       "      <th>0</th>\n",
       "      <td>109.169.248.247</td>\n",
       "      <td>[12/Dec/2015:18:25:11</td>\n",
       "      <td>GET /administrator/ HTTP/1.1</td>\n",
       "      <td>200</td>\n",
       "      <td>4263</td>\n",
       "      <td>Mozilla/5.0 (Windows NT 6.0; rv:34.0) Gecko/20...</td>\n",
       "    </tr>\n",
       "    <tr>\n",
       "      <th>1</th>\n",
       "      <td>109.169.248.247</td>\n",
       "      <td>[12/Dec/2015:18:25:11</td>\n",
       "      <td>POST /administrator/index.php HTTP/1.1</td>\n",
       "      <td>200</td>\n",
       "      <td>4494</td>\n",
       "      <td>Mozilla/5.0 (Windows NT 6.0; rv:34.0) Gecko/20...</td>\n",
       "    </tr>\n",
       "    <tr>\n",
       "      <th>2</th>\n",
       "      <td>46.72.177.4</td>\n",
       "      <td>[12/Dec/2015:18:31:08</td>\n",
       "      <td>GET /administrator/ HTTP/1.1</td>\n",
       "      <td>200</td>\n",
       "      <td>4263</td>\n",
       "      <td>Mozilla/5.0 (Windows NT 6.0; rv:34.0) Gecko/20...</td>\n",
       "    </tr>\n",
       "    <tr>\n",
       "      <th>3</th>\n",
       "      <td>46.72.177.4</td>\n",
       "      <td>[12/Dec/2015:18:31:08</td>\n",
       "      <td>POST /administrator/index.php HTTP/1.1</td>\n",
       "      <td>200</td>\n",
       "      <td>4494</td>\n",
       "      <td>Mozilla/5.0 (Windows NT 6.0; rv:34.0) Gecko/20...</td>\n",
       "    </tr>\n",
       "    <tr>\n",
       "      <th>4</th>\n",
       "      <td>83.167.113.100</td>\n",
       "      <td>[12/Dec/2015:18:31:25</td>\n",
       "      <td>GET /administrator/ HTTP/1.1</td>\n",
       "      <td>200</td>\n",
       "      <td>4263</td>\n",
       "      <td>Mozilla/5.0 (Windows NT 6.0; rv:34.0) Gecko/20...</td>\n",
       "    </tr>\n",
       "  </tbody>\n",
       "</table>\n",
       "</div>"
      ],
      "text/plain": [
       "              addr               req_date  \\\n",
       "0  109.169.248.247  [12/Dec/2015:18:25:11   \n",
       "1  109.169.248.247  [12/Dec/2015:18:25:11   \n",
       "2      46.72.177.4  [12/Dec/2015:18:31:08   \n",
       "3      46.72.177.4  [12/Dec/2015:18:31:08   \n",
       "4   83.167.113.100  [12/Dec/2015:18:31:25   \n",
       "\n",
       "                                  request  status  size  \\\n",
       "0            GET /administrator/ HTTP/1.1     200  4263   \n",
       "1  POST /administrator/index.php HTTP/1.1     200  4494   \n",
       "2            GET /administrator/ HTTP/1.1     200  4263   \n",
       "3  POST /administrator/index.php HTTP/1.1     200  4494   \n",
       "4            GET /administrator/ HTTP/1.1     200  4263   \n",
       "\n",
       "                                             browser  \n",
       "0  Mozilla/5.0 (Windows NT 6.0; rv:34.0) Gecko/20...  \n",
       "1  Mozilla/5.0 (Windows NT 6.0; rv:34.0) Gecko/20...  \n",
       "2  Mozilla/5.0 (Windows NT 6.0; rv:34.0) Gecko/20...  \n",
       "3  Mozilla/5.0 (Windows NT 6.0; rv:34.0) Gecko/20...  \n",
       "4  Mozilla/5.0 (Windows NT 6.0; rv:34.0) Gecko/20...  "
      ]
     },
     "execution_count": 5,
     "metadata": {},
     "output_type": "execute_result"
    }
   ],
   "source": [
    "log.head()"
   ]
  },
  {
   "cell_type": "code",
   "execution_count": 6,
   "metadata": {},
   "outputs": [
    {
     "name": "stdout",
     "output_type": "stream",
     "text": [
      "<class 'pandas.core.frame.DataFrame'>\n",
      "RangeIndex: 463915 entries, 0 to 463914\n",
      "Data columns (total 6 columns):\n",
      "addr        463915 non-null object\n",
      "req_date    463915 non-null object\n",
      "request     463915 non-null object\n",
      "status      463915 non-null int64\n",
      "size        463914 non-null object\n",
      "browser     463860 non-null object\n",
      "dtypes: int64(1), object(5)\n",
      "memory usage: 21.2+ MB\n"
     ]
    }
   ],
   "source": [
    "log.info()"
   ]
  },
  {
   "cell_type": "code",
   "execution_count": 7,
   "metadata": {},
   "outputs": [
    {
     "data": {
      "text/html": [
       "<div>\n",
       "<style scoped>\n",
       "    .dataframe tbody tr th:only-of-type {\n",
       "        vertical-align: middle;\n",
       "    }\n",
       "\n",
       "    .dataframe tbody tr th {\n",
       "        vertical-align: top;\n",
       "    }\n",
       "\n",
       "    .dataframe thead th {\n",
       "        text-align: right;\n",
       "    }\n",
       "</style>\n",
       "<table border=\"1\" class=\"dataframe\">\n",
       "  <thead>\n",
       "    <tr style=\"text-align: right;\">\n",
       "      <th></th>\n",
       "      <th>addr</th>\n",
       "      <th>req_date</th>\n",
       "      <th>request</th>\n",
       "      <th>status</th>\n",
       "      <th>size</th>\n",
       "      <th>browser</th>\n",
       "    </tr>\n",
       "  </thead>\n",
       "  <tbody>\n",
       "    <tr>\n",
       "      <th>0</th>\n",
       "      <td>109.169.248.247</td>\n",
       "      <td>2015-12-12 18:25:11</td>\n",
       "      <td>GET /administrator/ HTTP/1.1</td>\n",
       "      <td>200</td>\n",
       "      <td>4263</td>\n",
       "      <td>Mozilla/5.0 (Windows NT 6.0; rv:34.0) Gecko/20...</td>\n",
       "    </tr>\n",
       "    <tr>\n",
       "      <th>1</th>\n",
       "      <td>109.169.248.247</td>\n",
       "      <td>2015-12-12 18:25:11</td>\n",
       "      <td>POST /administrator/index.php HTTP/1.1</td>\n",
       "      <td>200</td>\n",
       "      <td>4494</td>\n",
       "      <td>Mozilla/5.0 (Windows NT 6.0; rv:34.0) Gecko/20...</td>\n",
       "    </tr>\n",
       "    <tr>\n",
       "      <th>2</th>\n",
       "      <td>46.72.177.4</td>\n",
       "      <td>2015-12-12 18:31:08</td>\n",
       "      <td>GET /administrator/ HTTP/1.1</td>\n",
       "      <td>200</td>\n",
       "      <td>4263</td>\n",
       "      <td>Mozilla/5.0 (Windows NT 6.0; rv:34.0) Gecko/20...</td>\n",
       "    </tr>\n",
       "    <tr>\n",
       "      <th>3</th>\n",
       "      <td>46.72.177.4</td>\n",
       "      <td>2015-12-12 18:31:08</td>\n",
       "      <td>POST /administrator/index.php HTTP/1.1</td>\n",
       "      <td>200</td>\n",
       "      <td>4494</td>\n",
       "      <td>Mozilla/5.0 (Windows NT 6.0; rv:34.0) Gecko/20...</td>\n",
       "    </tr>\n",
       "    <tr>\n",
       "      <th>4</th>\n",
       "      <td>83.167.113.100</td>\n",
       "      <td>2015-12-12 18:31:25</td>\n",
       "      <td>GET /administrator/ HTTP/1.1</td>\n",
       "      <td>200</td>\n",
       "      <td>4263</td>\n",
       "      <td>Mozilla/5.0 (Windows NT 6.0; rv:34.0) Gecko/20...</td>\n",
       "    </tr>\n",
       "  </tbody>\n",
       "</table>\n",
       "</div>"
      ],
      "text/plain": [
       "              addr            req_date  \\\n",
       "0  109.169.248.247 2015-12-12 18:25:11   \n",
       "1  109.169.248.247 2015-12-12 18:25:11   \n",
       "2      46.72.177.4 2015-12-12 18:31:08   \n",
       "3      46.72.177.4 2015-12-12 18:31:08   \n",
       "4   83.167.113.100 2015-12-12 18:31:25   \n",
       "\n",
       "                                  request  status  size  \\\n",
       "0            GET /administrator/ HTTP/1.1     200  4263   \n",
       "1  POST /administrator/index.php HTTP/1.1     200  4494   \n",
       "2            GET /administrator/ HTTP/1.1     200  4263   \n",
       "3  POST /administrator/index.php HTTP/1.1     200  4494   \n",
       "4            GET /administrator/ HTTP/1.1     200  4263   \n",
       "\n",
       "                                             browser  \n",
       "0  Mozilla/5.0 (Windows NT 6.0; rv:34.0) Gecko/20...  \n",
       "1  Mozilla/5.0 (Windows NT 6.0; rv:34.0) Gecko/20...  \n",
       "2  Mozilla/5.0 (Windows NT 6.0; rv:34.0) Gecko/20...  \n",
       "3  Mozilla/5.0 (Windows NT 6.0; rv:34.0) Gecko/20...  \n",
       "4  Mozilla/5.0 (Windows NT 6.0; rv:34.0) Gecko/20...  "
      ]
     },
     "execution_count": 7,
     "metadata": {},
     "output_type": "execute_result"
    }
   ],
   "source": [
    "log.req_date = pd.to_datetime(log.req_date, format='[%d/%b/%Y:%H:%M:%S')\n",
    "log.head()"
   ]
  },
  {
   "cell_type": "code",
   "execution_count": 8,
   "metadata": {},
   "outputs": [
    {
     "name": "stdout",
     "output_type": "stream",
     "text": [
      "<class 'pandas.core.frame.DataFrame'>\n",
      "RangeIndex: 463915 entries, 0 to 463914\n",
      "Data columns (total 6 columns):\n",
      "addr        463915 non-null object\n",
      "req_date    463915 non-null datetime64[ns]\n",
      "request     463915 non-null object\n",
      "status      463915 non-null int64\n",
      "size        463914 non-null object\n",
      "browser     463860 non-null object\n",
      "dtypes: datetime64[ns](1), int64(1), object(4)\n",
      "memory usage: 21.2+ MB\n"
     ]
    }
   ],
   "source": [
    "log.info()"
   ]
  },
  {
   "cell_type": "code",
   "execution_count": 9,
   "metadata": {},
   "outputs": [
    {
     "data": {
      "text/plain": [
       "addr\n",
       "149.56.83.40       62178\n",
       "205.167.170.15     33302\n",
       "134.249.53.185     17904\n",
       "192.227.172.158    13474\n",
       "195.154.216.79     10996\n",
       "195.154.215.241     7705\n",
       "41.75.96.130        5664\n",
       "190.57.154.101      5662\n",
       "154.0.14.250        5659\n",
       "37.1.206.196        3780\n",
       "dtype: int64"
      ]
     },
     "execution_count": 9,
     "metadata": {},
     "output_type": "execute_result"
    }
   ],
   "source": [
    "top10_addr = log.groupby('addr').size().sort_values(ascending=False).head(10)\n",
    "top10_addr"
   ]
  },
  {
   "cell_type": "code",
   "execution_count": 10,
   "metadata": {},
   "outputs": [
    {
     "data": {
      "image/png": "[encoded data removed]",
      "text/plain": [
       "<Figure size 432x288 with 1 Axes>"
      ]
     },
     "metadata": {
      "needs_background": "light"
     },
     "output_type": "display_data"
    }
   ],
   "source": [
    "top10_addr[::-1].plot(kind='barh');"
   ]
  },
  {
   "cell_type": "code",
   "execution_count": 11,
   "metadata": {},
   "outputs": [
    {
     "data": {
      "image/png": "[encoded data removed]",
      "text/plain": [
       "<Figure size 432x288 with 1 Axes>"
      ]
     },
     "metadata": {
      "needs_background": "light"
     },
     "output_type": "display_data"
    }
   ],
   "source": [
    "log.groupby('browser').size().sort_values(ascending=False).head(10)[::-1].plot(kind='barh');"
   ]
  },
  {
   "cell_type": "code",
   "execution_count": 12,
   "metadata": {},
   "outputs": [
    {
     "data": {
      "text/html": [
       "<div>\n",
       "<style scoped>\n",
       "    .dataframe tbody tr th:only-of-type {\n",
       "        vertical-align: middle;\n",
       "    }\n",
       "\n",
       "    .dataframe tbody tr th {\n",
       "        vertical-align: top;\n",
       "    }\n",
       "\n",
       "    .dataframe thead th {\n",
       "        text-align: right;\n",
       "    }\n",
       "</style>\n",
       "<table border=\"1\" class=\"dataframe\">\n",
       "  <thead>\n",
       "    <tr style=\"text-align: right;\">\n",
       "      <th></th>\n",
       "      <th>addr</th>\n",
       "      <th>req_date</th>\n",
       "      <th>request</th>\n",
       "      <th>status</th>\n",
       "      <th>size</th>\n",
       "      <th>browser</th>\n",
       "      <th>http-method</th>\n",
       "    </tr>\n",
       "  </thead>\n",
       "  <tbody>\n",
       "    <tr>\n",
       "      <th>0</th>\n",
       "      <td>109.169.248.247</td>\n",
       "      <td>2015-12-12 18:25:11</td>\n",
       "      <td>GET /administrator/ HTTP/1.1</td>\n",
       "      <td>200</td>\n",
       "      <td>4263</td>\n",
       "      <td>Mozilla/5.0 (Windows NT 6.0; rv:34.0) Gecko/20...</td>\n",
       "      <td>GET</td>\n",
       "    </tr>\n",
       "    <tr>\n",
       "      <th>1</th>\n",
       "      <td>109.169.248.247</td>\n",
       "      <td>2015-12-12 18:25:11</td>\n",
       "      <td>POST /administrator/index.php HTTP/1.1</td>\n",
       "      <td>200</td>\n",
       "      <td>4494</td>\n",
       "      <td>Mozilla/5.0 (Windows NT 6.0; rv:34.0) Gecko/20...</td>\n",
       "      <td>POST</td>\n",
       "    </tr>\n",
       "    <tr>\n",
       "      <th>2</th>\n",
       "      <td>46.72.177.4</td>\n",
       "      <td>2015-12-12 18:31:08</td>\n",
       "      <td>GET /administrator/ HTTP/1.1</td>\n",
       "      <td>200</td>\n",
       "      <td>4263</td>\n",
       "      <td>Mozilla/5.0 (Windows NT 6.0; rv:34.0) Gecko/20...</td>\n",
       "      <td>GET</td>\n",
       "    </tr>\n",
       "    <tr>\n",
       "      <th>3</th>\n",
       "      <td>46.72.177.4</td>\n",
       "      <td>2015-12-12 18:31:08</td>\n",
       "      <td>POST /administrator/index.php HTTP/1.1</td>\n",
       "      <td>200</td>\n",
       "      <td>4494</td>\n",
       "      <td>Mozilla/5.0 (Windows NT 6.0; rv:34.0) Gecko/20...</td>\n",
       "      <td>POST</td>\n",
       "    </tr>\n",
       "    <tr>\n",
       "      <th>4</th>\n",
       "      <td>83.167.113.100</td>\n",
       "      <td>2015-12-12 18:31:25</td>\n",
       "      <td>GET /administrator/ HTTP/1.1</td>\n",
       "      <td>200</td>\n",
       "      <td>4263</td>\n",
       "      <td>Mozilla/5.0 (Windows NT 6.0; rv:34.0) Gecko/20...</td>\n",
       "      <td>GET</td>\n",
       "    </tr>\n",
       "  </tbody>\n",
       "</table>\n",
       "</div>"
      ],
      "text/plain": [
       "              addr            req_date  \\\n",
       "0  109.169.248.247 2015-12-12 18:25:11   \n",
       "1  109.169.248.247 2015-12-12 18:25:11   \n",
       "2      46.72.177.4 2015-12-12 18:31:08   \n",
       "3      46.72.177.4 2015-12-12 18:31:08   \n",
       "4   83.167.113.100 2015-12-12 18:31:25   \n",
       "\n",
       "                                  request  status  size  \\\n",
       "0            GET /administrator/ HTTP/1.1     200  4263   \n",
       "1  POST /administrator/index.php HTTP/1.1     200  4494   \n",
       "2            GET /administrator/ HTTP/1.1     200  4263   \n",
       "3  POST /administrator/index.php HTTP/1.1     200  4494   \n",
       "4            GET /administrator/ HTTP/1.1     200  4263   \n",
       "\n",
       "                                             browser http-method  \n",
       "0  Mozilla/5.0 (Windows NT 6.0; rv:34.0) Gecko/20...         GET  \n",
       "1  Mozilla/5.0 (Windows NT 6.0; rv:34.0) Gecko/20...        POST  \n",
       "2  Mozilla/5.0 (Windows NT 6.0; rv:34.0) Gecko/20...         GET  \n",
       "3  Mozilla/5.0 (Windows NT 6.0; rv:34.0) Gecko/20...        POST  \n",
       "4  Mozilla/5.0 (Windows NT 6.0; rv:34.0) Gecko/20...         GET  "
      ]
     },
     "execution_count": 12,
     "metadata": {},
     "output_type": "execute_result"
    }
   ],
   "source": [
    "log['http-method'] = log.request.apply(lambda s: s.split()[0])\n",
    "log.head()"
   ]
  },
  {
   "cell_type": "code",
   "execution_count": 13,
   "metadata": {},
   "outputs": [
    {
     "data": {
      "image/png": "[encoded data removed]",
      "text/plain": [
       "<Figure size 432x288 with 1 Axes>"
      ]
     },
     "metadata": {
      "needs_background": "light"
     },
     "output_type": "display_data"
    }
   ],
   "source": [
    "top10_POSTS = log[log['http-method'] == 'POST'].groupby('addr').size().sort_values(ascending=False).head(10)\n",
    "top10_POSTS[::-1].plot(kind='barh');"
   ]
  },
  {
   "cell_type": "code",
   "execution_count": 14,
   "metadata": {},
   "outputs": [
    {
     "data": {
      "text/plain": [
       "{'dma_code': 0,\n",
       " 'area_code': 0,\n",
       " 'metro_code': None,\n",
       " 'postal_code': 'H3A',\n",
       " 'country_code': 'CA',\n",
       " 'country_code3': 'CAN',\n",
       " 'country_name': 'Canada',\n",
       " 'continent': 'NA',\n",
       " 'region_code': 'QC',\n",
       " 'city': 'Montréal',\n",
       " 'latitude': 45.50399999999999,\n",
       " 'longitude': -73.5747,\n",
       " 'time_zone': 'America/Montreal'}"
      ]
     },
     "execution_count": 14,
     "metadata": {},
     "output_type": "execute_result"
    }
   ],
   "source": [
    "import pygeoip\n",
    "GEOIP = pygeoip.GeoIP('../resources/GeoLiteCity.dat')\n",
    "GEOIP.record_by_addr('149.56.83.40')"
   ]
  },
  {
   "cell_type": "code",
   "execution_count": 15,
   "metadata": {},
   "outputs": [],
   "source": [
    "def get_location(addr):\n",
    "    results = ['', '', 0, 0]\n",
    "    try:\n",
    "        info = GEOIP.record_by_addr(addr)\n",
    "        if info:\n",
    "            results = [info.get('country_name'), info.get('city'), info.get('latitude'), info.get('longitude')]\n",
    "    except pygeoip.GeoIPError:\n",
    "        pass\n",
    "    \n",
    "    return results"
   ]
  },
  {
   "cell_type": "code",
   "execution_count": 16,
   "metadata": {},
   "outputs": [],
   "source": [
    "results = log.addr.map(get_location)"
   ]
  },
  {
   "cell_type": "code",
   "execution_count": 17,
   "metadata": {},
   "outputs": [
    {
     "data": {
      "text/html": [
       "<div>\n",
       "<style scoped>\n",
       "    .dataframe tbody tr th:only-of-type {\n",
       "        vertical-align: middle;\n",
       "    }\n",
       "\n",
       "    .dataframe tbody tr th {\n",
       "        vertical-align: top;\n",
       "    }\n",
       "\n",
       "    .dataframe thead th {\n",
       "        text-align: right;\n",
       "    }\n",
       "</style>\n",
       "<table border=\"1\" class=\"dataframe\">\n",
       "  <thead>\n",
       "    <tr style=\"text-align: right;\">\n",
       "      <th></th>\n",
       "      <th>country</th>\n",
       "      <th>city</th>\n",
       "      <th>latitude</th>\n",
       "      <th>longitude</th>\n",
       "    </tr>\n",
       "  </thead>\n",
       "  <tbody>\n",
       "    <tr>\n",
       "      <th>0</th>\n",
       "      <td>Russian Federation</td>\n",
       "      <td>Chapaevsk</td>\n",
       "      <td>52.9781</td>\n",
       "      <td>49.7197</td>\n",
       "    </tr>\n",
       "    <tr>\n",
       "      <th>1</th>\n",
       "      <td>Russian Federation</td>\n",
       "      <td>Chapaevsk</td>\n",
       "      <td>52.9781</td>\n",
       "      <td>49.7197</td>\n",
       "    </tr>\n",
       "    <tr>\n",
       "      <th>2</th>\n",
       "      <td>Russian Federation</td>\n",
       "      <td>Kursk</td>\n",
       "      <td>51.8830</td>\n",
       "      <td>36.2659</td>\n",
       "    </tr>\n",
       "    <tr>\n",
       "      <th>3</th>\n",
       "      <td>Russian Federation</td>\n",
       "      <td>Kursk</td>\n",
       "      <td>51.8830</td>\n",
       "      <td>36.2659</td>\n",
       "    </tr>\n",
       "    <tr>\n",
       "      <th>4</th>\n",
       "      <td>Russian Federation</td>\n",
       "      <td>Moscow</td>\n",
       "      <td>55.7522</td>\n",
       "      <td>37.6156</td>\n",
       "    </tr>\n",
       "  </tbody>\n",
       "</table>\n",
       "</div>"
      ],
      "text/plain": [
       "              country       city  latitude  longitude\n",
       "0  Russian Federation  Chapaevsk   52.9781    49.7197\n",
       "1  Russian Federation  Chapaevsk   52.9781    49.7197\n",
       "2  Russian Federation      Kursk   51.8830    36.2659\n",
       "3  Russian Federation      Kursk   51.8830    36.2659\n",
       "4  Russian Federation     Moscow   55.7522    37.6156"
      ]
     },
     "execution_count": 17,
     "metadata": {},
     "output_type": "execute_result"
    }
   ],
   "source": [
    "new_df = pd.DataFrame(results.values.tolist(), columns=['country', 'city', 'latitude', 'longitude'])\n",
    "new_df.head()"
   ]
  },
  {
   "cell_type": "code",
   "execution_count": 18,
   "metadata": {},
   "outputs": [
    {
     "data": {
      "text/html": [
       "<div>\n",
       "<style scoped>\n",
       "    .dataframe tbody tr th:only-of-type {\n",
       "        vertical-align: middle;\n",
       "    }\n",
       "\n",
       "    .dataframe tbody tr th {\n",
       "        vertical-align: top;\n",
       "    }\n",
       "\n",
       "    .dataframe thead th {\n",
       "        text-align: right;\n",
       "    }\n",
       "</style>\n",
       "<table border=\"1\" class=\"dataframe\">\n",
       "  <thead>\n",
       "    <tr style=\"text-align: right;\">\n",
       "      <th></th>\n",
       "      <th>addr</th>\n",
       "      <th>browser</th>\n",
       "      <th>city</th>\n",
       "      <th>country</th>\n",
       "      <th>http-method</th>\n",
       "      <th>latitude</th>\n",
       "      <th>longitude</th>\n",
       "      <th>req_date</th>\n",
       "      <th>request</th>\n",
       "      <th>size</th>\n",
       "      <th>status</th>\n",
       "    </tr>\n",
       "  </thead>\n",
       "  <tbody>\n",
       "    <tr>\n",
       "      <th>0</th>\n",
       "      <td>109.169.248.247</td>\n",
       "      <td>Mozilla/5.0 (Windows NT 6.0; rv:34.0) Gecko/20...</td>\n",
       "      <td>NaN</td>\n",
       "      <td>NaN</td>\n",
       "      <td>GET</td>\n",
       "      <td>NaN</td>\n",
       "      <td>NaN</td>\n",
       "      <td>2015-12-12 18:25:11</td>\n",
       "      <td>GET /administrator/ HTTP/1.1</td>\n",
       "      <td>4263</td>\n",
       "      <td>200.0</td>\n",
       "    </tr>\n",
       "    <tr>\n",
       "      <th>1</th>\n",
       "      <td>109.169.248.247</td>\n",
       "      <td>Mozilla/5.0 (Windows NT 6.0; rv:34.0) Gecko/20...</td>\n",
       "      <td>NaN</td>\n",
       "      <td>NaN</td>\n",
       "      <td>POST</td>\n",
       "      <td>NaN</td>\n",
       "      <td>NaN</td>\n",
       "      <td>2015-12-12 18:25:11</td>\n",
       "      <td>POST /administrator/index.php HTTP/1.1</td>\n",
       "      <td>4494</td>\n",
       "      <td>200.0</td>\n",
       "    </tr>\n",
       "    <tr>\n",
       "      <th>2</th>\n",
       "      <td>46.72.177.4</td>\n",
       "      <td>Mozilla/5.0 (Windows NT 6.0; rv:34.0) Gecko/20...</td>\n",
       "      <td>NaN</td>\n",
       "      <td>NaN</td>\n",
       "      <td>GET</td>\n",
       "      <td>NaN</td>\n",
       "      <td>NaN</td>\n",
       "      <td>2015-12-12 18:31:08</td>\n",
       "      <td>GET /administrator/ HTTP/1.1</td>\n",
       "      <td>4263</td>\n",
       "      <td>200.0</td>\n",
       "    </tr>\n",
       "    <tr>\n",
       "      <th>3</th>\n",
       "      <td>46.72.177.4</td>\n",
       "      <td>Mozilla/5.0 (Windows NT 6.0; rv:34.0) Gecko/20...</td>\n",
       "      <td>NaN</td>\n",
       "      <td>NaN</td>\n",
       "      <td>POST</td>\n",
       "      <td>NaN</td>\n",
       "      <td>NaN</td>\n",
       "      <td>2015-12-12 18:31:08</td>\n",
       "      <td>POST /administrator/index.php HTTP/1.1</td>\n",
       "      <td>4494</td>\n",
       "      <td>200.0</td>\n",
       "    </tr>\n",
       "    <tr>\n",
       "      <th>4</th>\n",
       "      <td>83.167.113.100</td>\n",
       "      <td>Mozilla/5.0 (Windows NT 6.0; rv:34.0) Gecko/20...</td>\n",
       "      <td>NaN</td>\n",
       "      <td>NaN</td>\n",
       "      <td>GET</td>\n",
       "      <td>NaN</td>\n",
       "      <td>NaN</td>\n",
       "      <td>2015-12-12 18:31:25</td>\n",
       "      <td>GET /administrator/ HTTP/1.1</td>\n",
       "      <td>4263</td>\n",
       "      <td>200.0</td>\n",
       "    </tr>\n",
       "  </tbody>\n",
       "</table>\n",
       "</div>"
      ],
      "text/plain": [
       "              addr                                            browser city  \\\n",
       "0  109.169.248.247  Mozilla/5.0 (Windows NT 6.0; rv:34.0) Gecko/20...  NaN   \n",
       "1  109.169.248.247  Mozilla/5.0 (Windows NT 6.0; rv:34.0) Gecko/20...  NaN   \n",
       "2      46.72.177.4  Mozilla/5.0 (Windows NT 6.0; rv:34.0) Gecko/20...  NaN   \n",
       "3      46.72.177.4  Mozilla/5.0 (Windows NT 6.0; rv:34.0) Gecko/20...  NaN   \n",
       "4   83.167.113.100  Mozilla/5.0 (Windows NT 6.0; rv:34.0) Gecko/20...  NaN   \n",
       "\n",
       "  country http-method  latitude  longitude            req_date  \\\n",
       "0     NaN         GET       NaN        NaN 2015-12-12 18:25:11   \n",
       "1     NaN        POST       NaN        NaN 2015-12-12 18:25:11   \n",
       "2     NaN         GET       NaN        NaN 2015-12-12 18:31:08   \n",
       "3     NaN        POST       NaN        NaN 2015-12-12 18:31:08   \n",
       "4     NaN         GET       NaN        NaN 2015-12-12 18:31:25   \n",
       "\n",
       "                                  request  size  status  \n",
       "0            GET /administrator/ HTTP/1.1  4263   200.0  \n",
       "1  POST /administrator/index.php HTTP/1.1  4494   200.0  \n",
       "2            GET /administrator/ HTTP/1.1  4263   200.0  \n",
       "3  POST /administrator/index.php HTTP/1.1  4494   200.0  \n",
       "4            GET /administrator/ HTTP/1.1  4263   200.0  "
      ]
     },
     "execution_count": 18,
     "metadata": {},
     "output_type": "execute_result"
    }
   ],
   "source": [
    "merged = pd.concat([log, new_df])\n",
    "merged.head()"
   ]
  },
  {
   "cell_type": "code",
   "execution_count": 19,
   "metadata": {},
   "outputs": [
    {
     "data": {
      "image/png": "[encoded data removed]",
      "text/plain": [
       "<Figure size 432x288 with 1 Axes>"
      ]
     },
     "metadata": {
      "needs_background": "light"
     },
     "output_type": "display_data"
    }
   ],
   "source": [
    "top10_countries = merged.groupby('country').size().sort_values(ascending=False).head(10)\n",
    "top10_countries[::-1].plot(kind='barh');"
   ]
  },
  {
   "cell_type": "code",
   "execution_count": 22,
   "metadata": {},
   "outputs": [
    {
     "data": {
      "image/png": "[encoded data removed]",
      "text/plain": [
       "<Figure size 432x288 with 1 Axes>"
      ]
     },
     "metadata": {
      "needs_background": "light"
     },
     "output_type": "display_data"
    }
   ],
   "source": [
    "top10_cities = merged.groupby('city').size().sort_values(ascending=False).head(10)\n",
    "top10_cities[::-1].plot(kind='barh');"
   ]
  },
  {
   "cell_type": "code",
   "execution_count": 23,
   "metadata": {},
   "outputs": [],
   "source": [
    "from gmplot import GoogleMapPlotter\n",
    "lats, longs = [], []\n",
    "for city in top10_cities.index:\n",
    "    latitude = merged.loc[city == merged['city'], 'latitude']\n",
    "    longitude = merged.loc[city == merged['city'], 'longitude']\n",
    "    lats.append(latitude.iloc[0])\n",
    "    longs.append(longitude.iloc[0])\n",
    "\n",
    "g_map = GoogleMapPlotter(37, 95, 3)\n",
    "g_map.heatmap(lats, longs, radius=20)\n",
    "g_map.draw('results.html')                  # this will be generated and placed into the student files"
   ]
  },
  {
   "cell_type": "code",
   "execution_count": null,
   "metadata": {},
   "outputs": [],
   "source": []
  }
 ],
 "metadata": {
  "kernelspec": {
   "display_name": "Python 3",
   "language": "python",
   "name": "python3"
  },
  "language_info": {
   "codemirror_mode": {
    "name": "ipython",
    "version": 3
   },
   "file_extension": ".py",
   "mimetype": "text/x-python",
   "name": "python",
   "nbconvert_exporter": "python",
   "pygments_lexer": "ipython3",
   "version": "3.7.0"
  }
 },
 "nbformat": 4,
 "nbformat_minor": 2
}
