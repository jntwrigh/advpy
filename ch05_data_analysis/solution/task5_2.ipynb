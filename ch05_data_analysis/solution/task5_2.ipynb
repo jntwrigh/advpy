{
 "cells": [
  {
   "cell_type": "markdown",
   "metadata": {},
   "source": [
    "#### Task 5-2\n",
    "The following will find the average daily high and low temperatures for a specified week."
   ]
  },
  {
   "cell_type": "code",
   "execution_count": 1,
   "metadata": {},
   "outputs": [],
   "source": [
    "import numpy as np\n",
    "np.set_printoptions(precision=1)"
   ]
  },
  {
   "cell_type": "markdown",
   "metadata": {},
   "source": [
    "The following represents our input data.  We'll input it as a Python array, and then convert it to a NumPy array.  When we create the array, we'll use dtype=object to bring in different data types."
   ]
  },
  {
   "cell_type": "code",
   "execution_count": 2,
   "metadata": {},
   "outputs": [],
   "source": [
    "data = [[1, 88, 68, 25, 10, 'Sunny', False],\n",
    "        [2, 84, 65, 31, 5, 'Cloudy', False],\n",
    "        [3, 86, 66, 32, 5, 'Light Rain', False], \n",
    "        [4, 89, 67, 26, 5, 'Rain', False],\n",
    "        [5, 92, 70, 22, 10, 'Sunny', False],\n",
    "        [6, 95, 71, 18, 20, 'Sunny', True],\n",
    "        [7, 94, 69, 27, 10, 'Sunny', False]]"
   ]
  },
  {
   "cell_type": "code",
   "execution_count": 3,
   "metadata": {},
   "outputs": [
    {
     "data": {
      "text/plain": [
       "array([[1, 88, 68, 25, 10, 'Sunny', False],\n",
       "       [2, 84, 65, 31, 5, 'Cloudy', False],\n",
       "       [3, 86, 66, 32, 5, 'Light Rain', False],\n",
       "       [4, 89, 67, 26, 5, 'Rain', False],\n",
       "       [5, 92, 70, 22, 10, 'Sunny', False],\n",
       "       [6, 95, 71, 18, 20, 'Sunny', True],\n",
       "       [7, 94, 69, 27, 10, 'Sunny', False]], dtype=object)"
      ]
     },
     "execution_count": 3,
     "metadata": {},
     "output_type": "execute_result"
    }
   ],
   "source": [
    "weather_data = np.array(data, dtype=object)\n",
    "weather_data"
   ]
  },
  {
   "cell_type": "markdown",
   "metadata": {},
   "source": [
    "The following characteristics provide information about our ndarray."
   ]
  },
  {
   "cell_type": "code",
   "execution_count": 4,
   "metadata": {
    "scrolled": true
   },
   "outputs": [
    {
     "data": {
      "text/plain": [
       "(2, (7, 7), 49, (56, 8))"
      ]
     },
     "execution_count": 4,
     "metadata": {},
     "output_type": "execute_result"
    }
   ],
   "source": [
    "weather_data.ndim, weather_data.shape, weather_data.size, weather_data.strides"
   ]
  },
  {
   "cell_type": "markdown",
   "metadata": {},
   "source": [
    "The following will take a slice of just the high and low temperature columns.  Note that the commented out vesion below will work, but creates a new array.  To avoid this, the numpy arr.astype(type, copy=False) approach can be used which creates a view of the data in that specified format."
   ]
  },
  {
   "cell_type": "code",
   "execution_count": 5,
   "metadata": {
    "scrolled": true
   },
   "outputs": [
    {
     "data": {
      "text/plain": [
       "array([[88., 68.],\n",
       "       [84., 65.],\n",
       "       [86., 66.],\n",
       "       [89., 67.],\n",
       "       [92., 70.],\n",
       "       [95., 71.],\n",
       "       [94., 69.]])"
      ]
     },
     "execution_count": 5,
     "metadata": {},
     "output_type": "execute_result"
    }
   ],
   "source": [
    "high_low = np.array(weather_data[:,1:3], dtype=float, copy=False)\n",
    "# high_low = weather_data[:,1:3].astype(np.float64, copy=False)\n",
    "high_low"
   ]
  },
  {
   "cell_type": "markdown",
   "metadata": {},
   "source": [
    "Next we'll get the average for each row by specifying axis=1."
   ]
  },
  {
   "cell_type": "code",
   "execution_count": 6,
   "metadata": {
    "scrolled": true
   },
   "outputs": [
    {
     "data": {
      "text/plain": [
       "array([78. , 74.5, 76. , 78. , 81. , 83. , 81.5])"
      ]
     },
     "execution_count": 6,
     "metadata": {},
     "output_type": "execute_result"
    }
   ],
   "source": [
    "daily_avg = high_low.mean(axis=1)\n",
    "daily_avg"
   ]
  },
  {
   "cell_type": "markdown",
   "metadata": {},
   "source": [
    "Finally we'll calculate the average for the entire week..."
   ]
  },
  {
   "cell_type": "code",
   "execution_count": 7,
   "metadata": {},
   "outputs": [
    {
     "data": {
      "text/plain": [
       "'78.86'"
      ]
     },
     "execution_count": 7,
     "metadata": {},
     "output_type": "execute_result"
    }
   ],
   "source": [
    "weekly_avg = daily_avg.mean()\n",
    "'{0:.2f}'.format(weekly_avg)"
   ]
  }
 ],
 "metadata": {
  "anaconda-cloud": {},
  "celltoolbar": "Edit Metadata",
  "kernelspec": {
   "display_name": "Python 3",
   "language": "python",
   "name": "python3"
  },
  "language_info": {
   "codemirror_mode": {
    "name": "ipython",
    "version": 3
   },
   "file_extension": ".py",
   "mimetype": "text/x-python",
   "name": "python",
   "nbconvert_exporter": "python",
   "pygments_lexer": "ipython3",
   "version": "3.7.0"
  }
 },
 "nbformat": 4,
 "nbformat_minor": 1
}
