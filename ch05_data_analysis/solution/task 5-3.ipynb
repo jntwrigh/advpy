{
 "cells": [
  {
   "cell_type": "markdown",
   "metadata": {},
   "source": [
    "## Task 5-3 - Calculating Batting Averages"
   ]
  },
  {
   "cell_type": "code",
   "execution_count": 8,
   "metadata": {},
   "outputs": [],
   "source": [
    "import numpy as np\n",
    "import warnings\n",
    "\n",
    "np.set_printoptions(precision=3, suppress=True)\n",
    "warnings.filterwarnings('ignore')"
   ]
  },
  {
   "cell_type": "markdown",
   "metadata": {},
   "source": [
    "The following opens the file _batting.csv_ and retrieves the three needed columns: *year*, *atbats* and *hits* specifying column types, skipping the first row, and the comma as a delimiter. "
   ]
  },
  {
   "cell_type": "code",
   "execution_count": 9,
   "metadata": {},
   "outputs": [
    {
     "data": {
      "text/plain": [
       "(101332, 3)"
      ]
     },
     "execution_count": 9,
     "metadata": {},
     "output_type": "execute_result"
    }
   ],
   "source": [
    "data = np.genfromtxt('../../resources/baseball/Batting.csv', skip_header=1,\n",
    "                     usecols=(1, 6, 8), delimiter=',', dtype=float)\n",
    "data.shape"
   ]
  },
  {
   "cell_type": "markdown",
   "metadata": {},
   "source": [
    "We'll remove any records that occurred before 1957 (before the 502-game rule)!"
   ]
  },
  {
   "cell_type": "code",
   "execution_count": 10,
   "metadata": {},
   "outputs": [],
   "source": [
    "data = data[data[:, 1] >= 502]\n",
    "data = data[data[:, 0] >= 1957]"
   ]
  },
  {
   "cell_type": "markdown",
   "metadata": {},
   "source": [
    "The average can be calculated on an element-by-element basis."
   ]
  },
  {
   "cell_type": "code",
   "execution_count": 11,
   "metadata": {},
   "outputs": [],
   "source": [
    "avgs = data[:, 2] / data[:, 1]"
   ]
  },
  {
   "cell_type": "markdown",
   "metadata": {},
   "source": [
    "The averages are combined with the year, hits, and atbats columns as a fourth column by using column_stack()."
   ]
  },
  {
   "cell_type": "code",
   "execution_count": 12,
   "metadata": {},
   "outputs": [
    {
     "data": {
      "text/plain": [
       "(5013, 4)"
      ]
     },
     "execution_count": 12,
     "metadata": {},
     "output_type": "execute_result"
    }
   ],
   "source": [
    "data = np.column_stack([data, avgs])\n",
    "data.shape"
   ]
  },
  {
   "cell_type": "markdown",
   "metadata": {},
   "source": [
    "Since the results are sorted smallest to largest, we'll take the last of the results using negative slice values."
   ]
  },
  {
   "cell_type": "code",
   "execution_count": 13,
   "metadata": {},
   "outputs": [
    {
     "data": {
      "text/plain": [
       "array([0.388, 0.372, 0.372, 0.372, 0.372, 0.37 , 0.368, 0.368, 0.366,\n",
       "       0.366, 0.365, 0.364, 0.363, 0.363, 0.363, 0.363, 0.362, 0.361,\n",
       "       0.361, 0.359, 0.359, 0.359, 0.358, 0.358, 0.357, 0.357, 0.357,\n",
       "       0.357, 0.356, 0.356, 0.355, 0.355, 0.354, 0.354, 0.353, 0.353,\n",
       "       0.353, 0.352, 0.352, 0.352, 0.351, 0.351, 0.351, 0.351, 0.35 ,\n",
       "       0.35 , 0.35 , 0.349, 0.349, 0.348, 0.348, 0.347, 0.347, 0.347,\n",
       "       0.347, 0.346, 0.345, 0.345, 0.344, 0.344, 0.344, 0.344, 0.344,\n",
       "       0.343, 0.343, 0.343, 0.343, 0.343, 0.343, 0.342, 0.342, 0.342,\n",
       "       0.342, 0.342, 0.342, 0.342, 0.341, 0.341, 0.341, 0.341, 0.341,\n",
       "       0.341, 0.341, 0.34 , 0.34 , 0.34 , 0.34 , 0.339, 0.339, 0.339,\n",
       "       0.339, 0.339, 0.339, 0.338, 0.338, 0.338, 0.338, 0.338, 0.338])"
      ]
     },
     "execution_count": 13,
     "metadata": {},
     "output_type": "execute_result"
    }
   ],
   "source": [
    "data = data[data[:, 3].argsort()]\n",
    "data[-1:-100:-1, 3]"
   ]
  },
  {
   "cell_type": "code",
   "execution_count": null,
   "metadata": {},
   "outputs": [],
   "source": []
  }
 ],
 "metadata": {
  "anaconda-cloud": {},
  "kernelspec": {
   "display_name": "Python 3",
   "language": "python",
   "name": "python3"
  },
  "language_info": {
   "codemirror_mode": {
    "name": "ipython",
    "version": 3
   },
   "file_extension": ".py",
   "mimetype": "text/x-python",
   "name": "python",
   "nbconvert_exporter": "python",
   "pygments_lexer": "ipython3",
   "version": "3.7.0"
  }
 },
 "nbformat": 4,
 "nbformat_minor": 1
}
